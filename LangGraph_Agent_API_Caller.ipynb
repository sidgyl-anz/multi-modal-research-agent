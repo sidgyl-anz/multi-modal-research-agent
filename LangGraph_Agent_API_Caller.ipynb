{
 "cells": [
  {
   "cell_type": "markdown",
   "metadata": {},
   "source": [
    "# Calling the LangGraph Multi-Modal Research Agent API\n",
    "\n",
    "This notebook demonstrates how to call the deployed LangGraph research agent API."
   ]
  },
  {
   "cell_type": "code",
   "execution_count": null,
   "metadata": {},
   "outputs": [],
   "source": [
    "# Install necessary libraries\n",
    "!pip install requests -q"
   ]
  },
  {
   "cell_type": "code",
   "execution_count": null,
   "metadata": {},
   "outputs": [],
   "source": [
    "import requests\n",
    "import json\n",
    "import os"
   ]
  },
  {
   "cell_type": "markdown",
   "metadata": {},
   "source": [
    "## Configuration\n",
    "\n",
    "**IMPORTANT:** The `LANGGRAPH_API_INVOKE_URL` below is set to the public URL you provided. If the application is not deployed there or the invoke path is different (e.g., `/research_agent/invoke` instead of just `/invoke`), you'll need to adjust it."
   ]
  },
  {
   "cell_type": "code",
   "execution_count": null,
   "metadata": {},
   "outputs": [],
   "source": [
    "# Configuration \n",
    "LANGGRAPH_API_INVOKE_URL = \"https://multi-modal-researcher-675059836631.us-central1.run.app/invoke\""
   ]
  },
  {
   "cell_type": "markdown",
   "metadata": {},
   "source": [
    "## Helper Function to Call the Agent"
   ]
  },
  {
   "cell_type": "code",
   "execution_count": null,
   "metadata": {},
   "outputs": [],
   "source": [
    "def call_research_agent(payload):\n",
    "    \"\"\"Sends a request to the LangGraph agent and returns the response.\"\"\"\n",
    "    headers = {\n",
    "        \"Content-Type\": \"application/json\"\n",
    "    }\n",
    "    print(f\"Sending request to: {LANGGRAPH_API_INVOKE_URL}\")\n",
    "    print(f\"Payload:\\n{json.dumps(payload, indent=2)}\")\n",
    "    \n",
    "    try:\n",
    "        response = requests.post(LANGGRAPH_API_INVOKE_URL, headers=headers, json=payload, timeout=600) # 10 minute timeout\n",
    "        response.raise_for_status()  # Raise an exception for HTTP errors (4xx or 5xx)\n",
    "        \n",
    "        print(\"\\n--- Full API Response (raw) ---\")\n",
    "        response_json = response.json()\n",
    "        print(json.dumps(response_json, indent=2))\n",
    "        \n",
    "        # The LangGraph server typically nests the actual graph output under an 'output' key\n",
    "        if isinstance(response_json, dict) and \"output\" in response_json:\n",
    "            return response_json[\"output\"]\n",
    "        else:\n",
    "            print(\"Warning: 'output' key not found in response JSON or response is not a dict, returning full JSON as is.\")\n",
    "            return response_json\n",
    "            \n",
    "    except requests.exceptions.HTTPError as http_err:\n",
    "        print(f\"\\nHTTP error occurred: {http_err}\")\n",
    "        print(f\"Response content: {response.text}\")\n",
    "    except requests.exceptions.ConnectionError as conn_err:\n",
    "        print(f\"\\nConnection error occurred: {conn_err}\")\n",
    "    except requests.exceptions.Timeout as timeout_err:\n",
    "        print(f\"\\nTimeout error occurred: {timeout_err}\")\n",
    "    except requests.exceptions.RequestException as req_err:\n",
    "        print(f\"\\nAn unexpected request error occurred: {req_err}\")\n",
    "    except json.JSONDecodeError as json_err:\n",
    "        print(f\"\\nFailed to decode JSON response: {json_err}\")\n",
    "        print(f\"Response content probably not JSON: {response.text}\")\n",
    "    return None"
   ]
  },
  {
   "cell_type": "markdown",
   "metadata": {},
   "source": [
    "## Test Case 1: \"Topic Only\" Research"
   ]
  },
  {
   "cell_type": "code",
   "execution_count": null,
   "metadata": {},
   "outputs": [],
   "source": [
    "print(\"\\n--- Test Case 1: Topic Only Research ---\")\n",
    "topic_only_input_payload = {\n",
    "    \"input\": {\n",
    "        \"topic\": \"The history and evolution of functional programming languages\",\n",
    "        \"research_approach\": \"Topic Only\",\n",
    "        \"company_name\": None,\n",
    "        \"title_areas\": None,\n",
    "        \"video_url\": None, \n",
    "        \"create_podcast\": False\n",
    "    }\n",
    "}\n",
    "\n",
    "results_topic_only = call_research_agent(topic_only_input_payload)\n",
    "\n",
    "if results_topic_only:\n",
    "    print(\"\\n--- Results for Topic Only Research ---\")\n",
    "    print(f\"Report Snippet: {str(results_topic_only.get('report', 'N/A'))[:500]}...\")\n",
    "    if results_topic_only.get('podcast_url'):\n",
    "        print(f\"Podcast URL: {results_topic_only.get('podcast_url')}\")\n",
    "else:\n",
    "    print(\"Failed to get results for Topic Only research.\")"
   ]
  },
  {
   "cell_type": "markdown",
   "metadata": {},
   "source": [
    "## Test Case 2: \"Topic Company Leads\" Research\n",
    "\n",
    "**Note:** For this to fully work, the deployed LangGraph agent's environment must have the necessary API keys set up:\n",
    "- `GEMINI_API_KEY` (for Gemini calls)\n",
    "- `GOOGLE_API_KEY_FOR_CSE` (for CSE LinkedIn search)\n",
    "- `GOOGLE_CSE_ID` (for CSE LinkedIn search)\n",
    "- `GCS_BUCKET_NAME` and `GOOGLE_APPLICATION_CREDENTIALS` (if podcast/report GCS upload is expected)"
   ]
  },
  {
   "cell_type": "code",
   "execution_count": null,
   "metadata": {},
   "outputs": [],
   "source": [
    "print(\"\\n\\n--- Test Case 2: Topic Company Leads Research ---\")\n",
    "topic_company_leads_input_payload = {\n",
    "    \"input\": {\n",
    "        \"topic\": \"The role of Vector Databases in Generative AI applications\",\n",
    "        \"research_approach\": \"Topic Company Leads\",\n",
    "        \"company_name\": \"Pinecone\",\n",
    "        \"title_areas\": [\"Solutions Architect\", \"Developer Advocate\", \"Head of Engineering\"],\n",
    "        \"video_url\": None,\n",
    "        \"create_podcast\": False\n",
    "    }\n",
    "}\n",
    "\n",
    "results_company_leads = call_research_agent(topic_company_leads_input_payload)\n",
    "\n",
    "if results_company_leads:\n",
    "    print(\"\\n--- Results for Topic Company Leads Research ---\")\n",
    "    print(f\"Report Snippet: {str(results_company_leads.get('report', 'N/A'))[:500]}...\")\n",
    "    \n",
    print(\"\nIdentified B2B Opportunities (from Gemini):\")\n",
    "    b2b_opportunities = results_company_leads.get('identified_leads') # This field now contains B2B Opportunities\n",
    "    if b2b_opportunities:\n",
    "        print(f\"  Found {len(b2b_opportunities)} B2B Opportunity object(s). Showing details for the first few:\")\n",
    "        for i, opportunity in enumerate(b2b_opportunities[:2]): # Print first 2 opportunities\n",
    "            print(f\"\\n  Opportunity {i+1}:\")\n",
    "            print(f\"    Name: {opportunity.get('opportunity_name', 'N/A')}\")\n",
    "            print(f\"    Description: {opportunity.get('opportunity_description', 'N/A')}\")\n",
    "            print(f\"    Relevant Departments: {', '.join(opportunity.get('relevant_departments', [])) if opportunity.get('relevant_departments') else 'N/A'}\")\n",
    "            \n",
    "            contact_points = opportunity.get('contact_points', [])\n",
    "            if contact_points:\n",
    "                print(\"    Contact Points for this Opportunity:\")\n",
    "                for cp_idx, cp in enumerate(contact_points[:3]): # Show first 3 contact points\n",
    "                    print(f\"      - Contact {cp_idx+1}: {cp.get('contact_name', 'N/A')} ({cp.get('contact_title', 'N/A')})\")\n",
    "                    print(f\"        Dept: {cp.get('contact_department', 'N/A')}, LinkedIn: {cp.get('contact_linkedin_url', 'N/A')}, Relevance: {cp.get('contact_relevance_to_opportunity', 'N/A')}\")\n",
    "            else:\n",
    "                print(\"    No specific contact points identified for this opportunity.\")\n",
    "\n",
    "            decision_makers = opportunity.get('potential_decision_makers_for_opportunity', [])\n",
    "            if decision_makers:\n",
    "                print(\"    Potential Decision-Makers for this Opportunity Type:\")\n",
    "                for dm_idx, dm in enumerate(decision_makers[:2]): # Show first 2 DMs\n",
    "                    print(f\"      - DM {dm_idx+1}: {dm.get('dm_name', 'N/A')} ({dm.get('dm_title', 'N/A')}) - Rationale: {dm.get('dm_rationale', 'N/A')}\")\n",
    "            else:\n",
    "                print(\"    No potential decision-makers identified for this opportunity type.\")\n",
    "    else:\n",
    "        print(\"  No B2B opportunities identified by Gemini or field not present.\")\n",
    "        \n",
    "    print(\"\\nLinkedIn Contacts (from CSE):\")\n",
    "    cse_contacts = results_company_leads.get('linkedin_cse_contacts')\n",
    "    if cse_contacts:\n",
    "        for i, contact in enumerate(cse_contacts[:3]): # Print first 3 CSE contacts\n",
    "            print(f\"  Contact {i+1}:\")\n",
    "            print(f\"    Title: {contact.get('title')}\")\n",
    "            print(f\"    Link: {contact.get('link')}\")\n",
    "            print(f\"    Snippet: {contact.get('snippet')}\")\n",
    "    else:\n",
    "        print(\"  No LinkedIn contacts found via CSE or field not present.\")\n",
    "\n",
    "    if results_company_leads.get('podcast_url'):\n",
    "        print(f\"\\nPodcast URL: {results_company_leads.get('podcast_url')}\")\n",
    "else:\n",
    "    print(\"Failed to get results for Topic Company Leads research.\")"
   ]
  },
  {
   "cell_type": "markdown",
   "metadata": {},
   "source": [
    "## Conclusion\n",
    "\n",
    "This notebook provides a template for interacting with the LangGraph research agent. Remember to:\n",
    "1. Ensure your LangGraph agent is deployed and accessible at the `LANGGRAPH_API_INVOKE_URL` specified.\n",
    "2. Verify the invoke path (e.g., `/invoke` or `/<graph_id>/invoke`).\n",
    "3. Ensure all necessary API keys (`GEMINI_API_KEY`, `GOOGLE_API_KEY_FOR_CSE`, `GOOGLE_CSE_ID`) are correctly configured in the environment where your LangGraph agent is running for full functionality."
   ]
  }
 ],
 "metadata": {
  "kernelspec": {
   "display_name": "Python 3",
   "language": "python",
   "name": "python3"
  },
  "language_info": {
   "codemirror_mode": {
    "name": "ipython",
    "version": 3
   },
   "file_extension": ".py",
   "mimetype": "text/x-python",
   "name": "python",
   "nbconvert_exporter": "python",
   "pygments_lexer": "ipython3",
   "version": "3.10.0"
  }
 },
 "nbformat": 4,
 "nbformat_minor": 4
}
